{
 "cells": [
  {
   "cell_type": "code",
   "outputs": [],
   "source": [
    "import pandas as pd"
   ],
   "metadata": {
    "collapsed": false,
    "ExecuteTime": {
     "end_time": "2024-03-26T06:13:14.718250800Z",
     "start_time": "2024-03-26T06:13:14.182481400Z"
    }
   },
   "id": "73ad9953d76a27b4",
   "execution_count": 3
  },
  {
   "cell_type": "code",
   "outputs": [],
   "source": [
    "json_file_path = 'test.json'\n",
    "df = pd.read_json(json_file_path, lines=True)"
   ],
   "metadata": {
    "collapsed": false,
    "ExecuteTime": {
     "end_time": "2024-03-26T07:15:34.224351700Z",
     "start_time": "2024-03-26T07:15:34.204771900Z"
    }
   },
   "id": "ea694ffe564c02cd",
   "execution_count": 25
  },
  {
   "cell_type": "code",
   "outputs": [],
   "source": [
    "def determine_profit_loss(group):\n",
    "    # 'main' 타입 주문 중 'open'과 'close' 상태의 주문 필터링\n",
    "    open_order = group[(group['order_type'] == 'main') & (group['open_or_close'] == 'open')]\n",
    "    close_order = group[(group['order_type'] == 'main') & (group['open_or_close'] == 'close')]\n",
    "\n",
    "    # 'open'과 'close' 상태의 주문이 모두 있는지 확인\n",
    "    if not open_order.empty and not close_order.empty:\n",
    "        open_price = open_order['current_price'].iloc[0]\n",
    "        close_price = close_order['current_price'].iloc[0]\n",
    "        position = open_order['position'].iloc[0]\n",
    "\n",
    "        if position == 'LONG':\n",
    "            return 'profit' if close_price > open_price else 'loss'\n",
    "        elif position == 'SHORT':\n",
    "            return 'profit' if close_price < open_price else 'loss'\n",
    "    if not open_order.empty and close_order.empty:\n",
    "        return 'activate'\n",
    "    \n",
    "    if open_order.empty and not close_order.empty:\n",
    "        return \"open_empty\"\n",
    "    \n",
    "    return 'unknown'  # 'open' 또는 'close' 주문이 누락된 경우\n"
   ],
   "metadata": {
    "collapsed": false,
    "ExecuteTime": {
     "end_time": "2024-03-26T07:09:57.173809800Z",
     "start_time": "2024-03-26T07:09:57.170310400Z"
    }
   },
   "id": "fe5b32f4e3a85d54",
   "execution_count": 19
  },
  {
   "cell_type": "code",
   "outputs": [],
   "source": [
    "# split 주문 분석\n",
    "def split_order_analysis(group, split_status, split_type):\n",
    "    return len(group[(group['order_type'] == 'split') & (group['open_or_close'] == split_status) & (group['split_type'] == split_type)])\n",
    "# orderId를 입력으로 받아 해당 orderId만 필터링하여 반환하는 함수\n",
    "\n",
    "def filter_df(_df,key,filter_value):\n",
    "    filtered_df = _df[_df[key] == filter_value]\n",
    "    return filtered_df"
   ],
   "metadata": {
    "collapsed": false,
    "ExecuteTime": {
     "end_time": "2024-03-26T07:17:21.833749600Z",
     "start_time": "2024-03-26T07:17:21.830250300Z"
    }
   },
   "id": "fcffccc1dcae540e",
   "execution_count": 29
  },
  {
   "cell_type": "code",
   "outputs": [
    {
     "data": {
      "text/plain": "             timestamp order_type open_or_close     order_id  user_id  \\\n20 2024-03-25 19:25:41       main         close  12170825073  hamoni2   \n\n      symbol position side  quantity  average_price  trigger_price  \\\n20  BANDUSDT     LONG  BUY      14.8            0.0        2.18736   \n\n    current_price  profit_price split_type  split_step close_type  \\\n20         2.1875           NaN        NaN         NaN     profit   \n\n   pnl_trigger_price water_trigger_price bull_trigger_price  \n20              None                None               None  ",
      "text/html": "<div>\n<style scoped>\n    .dataframe tbody tr th:only-of-type {\n        vertical-align: middle;\n    }\n\n    .dataframe tbody tr th {\n        vertical-align: top;\n    }\n\n    .dataframe thead th {\n        text-align: right;\n    }\n</style>\n<table border=\"1\" class=\"dataframe\">\n  <thead>\n    <tr style=\"text-align: right;\">\n      <th></th>\n      <th>timestamp</th>\n      <th>order_type</th>\n      <th>open_or_close</th>\n      <th>order_id</th>\n      <th>user_id</th>\n      <th>symbol</th>\n      <th>position</th>\n      <th>side</th>\n      <th>quantity</th>\n      <th>average_price</th>\n      <th>trigger_price</th>\n      <th>current_price</th>\n      <th>profit_price</th>\n      <th>split_type</th>\n      <th>split_step</th>\n      <th>close_type</th>\n      <th>pnl_trigger_price</th>\n      <th>water_trigger_price</th>\n      <th>bull_trigger_price</th>\n    </tr>\n  </thead>\n  <tbody>\n    <tr>\n      <th>20</th>\n      <td>2024-03-25 19:25:41</td>\n      <td>main</td>\n      <td>close</td>\n      <td>12170825073</td>\n      <td>hamoni2</td>\n      <td>BANDUSDT</td>\n      <td>LONG</td>\n      <td>BUY</td>\n      <td>14.8</td>\n      <td>0.0</td>\n      <td>2.18736</td>\n      <td>2.1875</td>\n      <td>NaN</td>\n      <td>NaN</td>\n      <td>NaN</td>\n      <td>profit</td>\n      <td>None</td>\n      <td>None</td>\n      <td>None</td>\n    </tr>\n  </tbody>\n</table>\n</div>"
     },
     "execution_count": 46,
     "metadata": {},
     "output_type": "execute_result"
    }
   ],
   "source": [
    "filter_df(df,\"order_id\",12170825073)"
   ],
   "metadata": {
    "collapsed": false,
    "ExecuteTime": {
     "end_time": "2024-03-26T07:34:48.058342600Z",
     "start_time": "2024-03-26T07:34:48.036511500Z"
    }
   },
   "id": "4b23afdbffa0f7e3",
   "execution_count": 46
  },
  {
   "cell_type": "code",
   "outputs": [],
   "source": [
    "def aggregate_results(group):\n",
    "    return pd.Series({\n",
    "        'symbol': group['symbol'].iloc[0],  # 첫 번째 symbol 값\n",
    "        'position': group['position'].iloc[0],  # 첫 번째 position 값\n",
    "        'profit_loss': determine_profit_loss(group),\n",
    "        'split_open_water': split_order_analysis(group, 'open', 'water'),\n",
    "        'split_close_water': split_order_analysis(group, 'close', 'water'),\n",
    "        'split_open_bull': split_order_analysis(group, 'open', 'bull'),\n",
    "        'split_close_bull': split_order_analysis(group, 'close', 'bull'),\n",
    "    })\n",
    "\n",
    "# apply 함수를 사용할 때 include_groups=False를 추가하거나 경고를 무시\n",
    "results = df.groupby('order_id').apply(aggregate_results, include_groups=False).reset_index()\n"
   ],
   "metadata": {
    "collapsed": false,
    "ExecuteTime": {
     "end_time": "2024-03-26T07:50:37.555282600Z",
     "start_time": "2024-03-26T07:50:37.477296100Z"
    }
   },
   "id": "7972d6bcacb2dc53",
   "execution_count": 53
  },
  {
   "cell_type": "code",
   "outputs": [
    {
     "data": {
      "text/plain": "              order_id     symbol position profit_loss  split_open_water  \\\n2            875895396    TRUUSDT    SHORT        loss                35   \n3            877317405    TRUUSDT     LONG      profit                11   \n4            900472957      TUSDT     LONG      profit                 0   \n9           3333774111  JASMYUSDT    SHORT        loss                20   \n10          3334553266  JASMYUSDT     LONG      profit                 1   \n13          8505524823    APTUSDT    SHORT        loss                21   \n14          8505924009    APTUSDT     LONG      profit                 6   \n22  633327755710356224    RSRUSDT     LONG      profit                 2   \n\n    split_close_water  split_open_bull  split_close_bull  \n2                  25                0                 0  \n3                  11                5                 5  \n4                   0                5                 5  \n9                  10                0                 0  \n10                  1                5                 5  \n13                 11                1                 0  \n14                  6                5                 5  \n22                  2                5                 5  ",
      "text/html": "<div>\n<style scoped>\n    .dataframe tbody tr th:only-of-type {\n        vertical-align: middle;\n    }\n\n    .dataframe tbody tr th {\n        vertical-align: top;\n    }\n\n    .dataframe thead th {\n        text-align: right;\n    }\n</style>\n<table border=\"1\" class=\"dataframe\">\n  <thead>\n    <tr style=\"text-align: right;\">\n      <th></th>\n      <th>order_id</th>\n      <th>symbol</th>\n      <th>position</th>\n      <th>profit_loss</th>\n      <th>split_open_water</th>\n      <th>split_close_water</th>\n      <th>split_open_bull</th>\n      <th>split_close_bull</th>\n    </tr>\n  </thead>\n  <tbody>\n    <tr>\n      <th>2</th>\n      <td>875895396</td>\n      <td>TRUUSDT</td>\n      <td>SHORT</td>\n      <td>loss</td>\n      <td>35</td>\n      <td>25</td>\n      <td>0</td>\n      <td>0</td>\n    </tr>\n    <tr>\n      <th>3</th>\n      <td>877317405</td>\n      <td>TRUUSDT</td>\n      <td>LONG</td>\n      <td>profit</td>\n      <td>11</td>\n      <td>11</td>\n      <td>5</td>\n      <td>5</td>\n    </tr>\n    <tr>\n      <th>4</th>\n      <td>900472957</td>\n      <td>TUSDT</td>\n      <td>LONG</td>\n      <td>profit</td>\n      <td>0</td>\n      <td>0</td>\n      <td>5</td>\n      <td>5</td>\n    </tr>\n    <tr>\n      <th>9</th>\n      <td>3333774111</td>\n      <td>JASMYUSDT</td>\n      <td>SHORT</td>\n      <td>loss</td>\n      <td>20</td>\n      <td>10</td>\n      <td>0</td>\n      <td>0</td>\n    </tr>\n    <tr>\n      <th>10</th>\n      <td>3334553266</td>\n      <td>JASMYUSDT</td>\n      <td>LONG</td>\n      <td>profit</td>\n      <td>1</td>\n      <td>1</td>\n      <td>5</td>\n      <td>5</td>\n    </tr>\n    <tr>\n      <th>13</th>\n      <td>8505524823</td>\n      <td>APTUSDT</td>\n      <td>SHORT</td>\n      <td>loss</td>\n      <td>21</td>\n      <td>11</td>\n      <td>1</td>\n      <td>0</td>\n    </tr>\n    <tr>\n      <th>14</th>\n      <td>8505924009</td>\n      <td>APTUSDT</td>\n      <td>LONG</td>\n      <td>profit</td>\n      <td>6</td>\n      <td>6</td>\n      <td>5</td>\n      <td>5</td>\n    </tr>\n    <tr>\n      <th>22</th>\n      <td>633327755710356224</td>\n      <td>RSRUSDT</td>\n      <td>LONG</td>\n      <td>profit</td>\n      <td>2</td>\n      <td>2</td>\n      <td>5</td>\n      <td>5</td>\n    </tr>\n  </tbody>\n</table>\n</div>"
     },
     "execution_count": 54,
     "metadata": {},
     "output_type": "execute_result"
    }
   ],
   "source": [
    "results[(results[\"profit_loss\"] == \"loss\") | (results[\"profit_loss\"] == \"profit\")]"
   ],
   "metadata": {
    "collapsed": false,
    "ExecuteTime": {
     "end_time": "2024-03-26T07:50:39.119011Z",
     "start_time": "2024-03-26T07:50:39.109122900Z"
    }
   },
   "id": "770894a73b836a47",
   "execution_count": 54
  },
  {
   "cell_type": "code",
   "outputs": [
    {
     "data": {
      "text/plain": "       order_id    symbol position profit_loss  split_open_water  \\\n0     672477120  IDEXUSDT    SHORT     unknown                 5   \n1     833333742   KEYUSDT    SHORT     unknown                 7   \n5    1029665539   CKBUSDT    SHORT     unknown                 2   \n6    2703421782   CTKUSDT    SHORT     unknown                 0   \n7    3293571738  ARPAUSDT    SHORT     unknown                23   \n8    3294776039  ARPAUSDT     LONG     unknown                 0   \n11   3527806367   STXUSDT     LONG     unknown                18   \n12   6833619104   MKRUSDT     LONG     unknown                 0   \n15  10898466071   XMRUSDT    SHORT     unknown                 1   \n16  11592237640   TRXUSDT     LONG     unknown                 1   \n17  11595831093   TRXUSDT    SHORT     unknown                 3   \n18  12170825073  BANDUSDT     LONG     unknown                 0   \n19  15834723509  SANDUSDT    SHORT     unknown                12   \n20  15835408473  SANDUSDT     LONG     unknown                 0   \n21  20133084124  AVAXUSDT     LONG     unknown                 0   \n\n    split_close_water  split_open_bull  split_close_bull  \n0                   4                0                 0  \n1                   6                0                 0  \n5                   0                0                 0  \n6                   0                1                 2  \n7                  14                0                 0  \n8                   0                3                 1  \n11                 12                0                 0  \n12                  0                0                 0  \n15                  0                0                 0  \n16                  1                1                 1  \n17                  0                0                 0  \n18                  0                0                 0  \n19                  4                0                 0  \n20                  0                3                 2  \n21                  0                0                 1  ",
      "text/html": "<div>\n<style scoped>\n    .dataframe tbody tr th:only-of-type {\n        vertical-align: middle;\n    }\n\n    .dataframe tbody tr th {\n        vertical-align: top;\n    }\n\n    .dataframe thead th {\n        text-align: right;\n    }\n</style>\n<table border=\"1\" class=\"dataframe\">\n  <thead>\n    <tr style=\"text-align: right;\">\n      <th></th>\n      <th>order_id</th>\n      <th>symbol</th>\n      <th>position</th>\n      <th>profit_loss</th>\n      <th>split_open_water</th>\n      <th>split_close_water</th>\n      <th>split_open_bull</th>\n      <th>split_close_bull</th>\n    </tr>\n  </thead>\n  <tbody>\n    <tr>\n      <th>0</th>\n      <td>672477120</td>\n      <td>IDEXUSDT</td>\n      <td>SHORT</td>\n      <td>unknown</td>\n      <td>5</td>\n      <td>4</td>\n      <td>0</td>\n      <td>0</td>\n    </tr>\n    <tr>\n      <th>1</th>\n      <td>833333742</td>\n      <td>KEYUSDT</td>\n      <td>SHORT</td>\n      <td>unknown</td>\n      <td>7</td>\n      <td>6</td>\n      <td>0</td>\n      <td>0</td>\n    </tr>\n    <tr>\n      <th>5</th>\n      <td>1029665539</td>\n      <td>CKBUSDT</td>\n      <td>SHORT</td>\n      <td>unknown</td>\n      <td>2</td>\n      <td>0</td>\n      <td>0</td>\n      <td>0</td>\n    </tr>\n    <tr>\n      <th>6</th>\n      <td>2703421782</td>\n      <td>CTKUSDT</td>\n      <td>SHORT</td>\n      <td>unknown</td>\n      <td>0</td>\n      <td>0</td>\n      <td>1</td>\n      <td>2</td>\n    </tr>\n    <tr>\n      <th>7</th>\n      <td>3293571738</td>\n      <td>ARPAUSDT</td>\n      <td>SHORT</td>\n      <td>unknown</td>\n      <td>23</td>\n      <td>14</td>\n      <td>0</td>\n      <td>0</td>\n    </tr>\n    <tr>\n      <th>8</th>\n      <td>3294776039</td>\n      <td>ARPAUSDT</td>\n      <td>LONG</td>\n      <td>unknown</td>\n      <td>0</td>\n      <td>0</td>\n      <td>3</td>\n      <td>1</td>\n    </tr>\n    <tr>\n      <th>11</th>\n      <td>3527806367</td>\n      <td>STXUSDT</td>\n      <td>LONG</td>\n      <td>unknown</td>\n      <td>18</td>\n      <td>12</td>\n      <td>0</td>\n      <td>0</td>\n    </tr>\n    <tr>\n      <th>12</th>\n      <td>6833619104</td>\n      <td>MKRUSDT</td>\n      <td>LONG</td>\n      <td>unknown</td>\n      <td>0</td>\n      <td>0</td>\n      <td>0</td>\n      <td>0</td>\n    </tr>\n    <tr>\n      <th>15</th>\n      <td>10898466071</td>\n      <td>XMRUSDT</td>\n      <td>SHORT</td>\n      <td>unknown</td>\n      <td>1</td>\n      <td>0</td>\n      <td>0</td>\n      <td>0</td>\n    </tr>\n    <tr>\n      <th>16</th>\n      <td>11592237640</td>\n      <td>TRXUSDT</td>\n      <td>LONG</td>\n      <td>unknown</td>\n      <td>1</td>\n      <td>1</td>\n      <td>1</td>\n      <td>1</td>\n    </tr>\n    <tr>\n      <th>17</th>\n      <td>11595831093</td>\n      <td>TRXUSDT</td>\n      <td>SHORT</td>\n      <td>unknown</td>\n      <td>3</td>\n      <td>0</td>\n      <td>0</td>\n      <td>0</td>\n    </tr>\n    <tr>\n      <th>18</th>\n      <td>12170825073</td>\n      <td>BANDUSDT</td>\n      <td>LONG</td>\n      <td>unknown</td>\n      <td>0</td>\n      <td>0</td>\n      <td>0</td>\n      <td>0</td>\n    </tr>\n    <tr>\n      <th>19</th>\n      <td>15834723509</td>\n      <td>SANDUSDT</td>\n      <td>SHORT</td>\n      <td>unknown</td>\n      <td>12</td>\n      <td>4</td>\n      <td>0</td>\n      <td>0</td>\n    </tr>\n    <tr>\n      <th>20</th>\n      <td>15835408473</td>\n      <td>SANDUSDT</td>\n      <td>LONG</td>\n      <td>unknown</td>\n      <td>0</td>\n      <td>0</td>\n      <td>3</td>\n      <td>2</td>\n    </tr>\n    <tr>\n      <th>21</th>\n      <td>20133084124</td>\n      <td>AVAXUSDT</td>\n      <td>LONG</td>\n      <td>unknown</td>\n      <td>0</td>\n      <td>0</td>\n      <td>0</td>\n      <td>1</td>\n    </tr>\n  </tbody>\n</table>\n</div>"
     },
     "execution_count": 42,
     "metadata": {},
     "output_type": "execute_result"
    }
   ],
   "source": [
    "filter_df(results,\"profit_loss\",\"unknown\")"
   ],
   "metadata": {
    "collapsed": false,
    "ExecuteTime": {
     "end_time": "2024-03-26T07:26:33.715394800Z",
     "start_time": "2024-03-26T07:26:33.695418300Z"
    }
   },
   "id": "1765ee557b24b3bc",
   "execution_count": 42
  },
  {
   "cell_type": "code",
   "outputs": [
    {
     "name": "stdout",
     "output_type": "stream",
     "text": [
      "         total_orders  profits  losses  water_splits  bull_splits  \\\n",
      "user_id                                                             \n",
      "hamoni2            20      107     175           217           43   \n",
      "\n",
      "         closed_splits  \n",
      "user_id                 \n",
      "hamoni2            114  \n"
     ]
    },
    {
     "name": "stderr",
     "output_type": "stream",
     "text": [
      "C:\\Users\\seeti\\AppData\\Local\\Temp\\ipykernel_1416\\351137846.py:13: DeprecationWarning: DataFrameGroupBy.apply operated on the grouping columns. This behavior is deprecated, and in a future version of pandas the grouping columns will be excluded from the operation. Either pass `include_groups=False` to exclude the groupings or explicitly select the grouping columns after groupby to silence this warning.\n",
      "  user_stats = df.groupby('user_id').apply(lambda x: pd.Series({\n"
     ]
    }
   ],
   "source": [],
   "metadata": {
    "collapsed": false,
    "ExecuteTime": {
     "end_time": "2024-03-26T06:26:13.567376200Z",
     "start_time": "2024-03-26T06:26:13.562139400Z"
    }
   },
   "id": "6712e7858e5fc264",
   "execution_count": 13
  }
 ],
 "metadata": {
  "kernelspec": {
   "display_name": "Python 3",
   "language": "python",
   "name": "python3"
  },
  "language_info": {
   "codemirror_mode": {
    "name": "ipython",
    "version": 2
   },
   "file_extension": ".py",
   "mimetype": "text/x-python",
   "name": "python",
   "nbconvert_exporter": "python",
   "pygments_lexer": "ipython2",
   "version": "2.7.6"
  }
 },
 "nbformat": 4,
 "nbformat_minor": 5
}
